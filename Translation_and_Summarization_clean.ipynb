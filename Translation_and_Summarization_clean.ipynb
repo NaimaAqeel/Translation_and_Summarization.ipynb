{
 "cells": [
  {
   "cell_type": "markdown",
   "id": "e6685771",
   "metadata": {
    "id": "e6685771"
   },
   "source": [
    "#  Translation and Summarization"
   ]
  },
  {
   "cell_type": "markdown",
   "id": "97e3e7c9-1437-4784-8a21-cd200bc609a5",
   "metadata": {
    "id": "97e3e7c9-1437-4784-8a21-cd200bc609a5"
   },
   "source": [
    "- Here is some code that suppresses warning messages."
   ]
  },
  {
   "cell_type": "code",
   "execution_count": null,
   "id": "zB5N9-m69wSB",
   "metadata": {
    "colab": {
     "base_uri": "https://localhost:8080/"
    },
    "id": "zB5N9-m69wSB",
    "outputId": "e242324c-a140-4781-fb33-6767414f1b23"
   },
   "outputs": [],
   "source": [
    "!pip install transformers"
   ]
  },
  {
   "cell_type": "code",
   "execution_count": null,
   "id": "782af222-1bea-449a-8dd4-655ad7a7b8ea",
   "metadata": {
    "height": 47,
    "id": "782af222-1bea-449a-8dd4-655ad7a7b8ea"
   },
   "outputs": [],
   "source": [
    "from transformers.utils import logging\n",
    "logging.set_verbosity_error()"
   ]
  },
  {
   "cell_type": "markdown",
   "id": "bea43ec1",
   "metadata": {
    "id": "bea43ec1"
   },
   "source": [
    "### Build the `translation` pipeline using Transformers Library"
   ]
  },
  {
   "cell_type": "code",
   "execution_count": null,
   "id": "d1d46ac9-d665-4690-99a4-43b625e02114",
   "metadata": {
    "height": 47,
    "id": "d1d46ac9-d665-4690-99a4-43b625e02114"
   },
   "outputs": [],
   "source": [
    "from transformers import pipeline\n",
    "import torch"
   ]
  },
  {
   "cell_type": "code",
   "execution_count": null,
   "id": "014e1c26-df35-406c-8ac2-9789b011c86b",
   "metadata": {
    "colab": {
     "base_uri": "https://localhost:8080/",
     "height": 365,
     "referenced_widgets": [
      "57b4aa3b7ebc42cfab46b832078a211a",
      "799476ce27d54ac3af6a06cdd8ce1e80",
      "2e7e2744586e48d1ba4bd290bafc812e",
      "ea2c79a14cc04091858746acfde7206b",
      "5c01321f820842fa953e9f88697bd6c0",
      "3a18081429cb46eba73902207342e8b2",
      "87ef9ce92f884c369eac27acace11dfd",
      "785b23a1174e4732aeff385cece175fc",
      "3e3d693af49d47d9a1f6404c1df84421",
      "df42f1582d3c4132bbc8fd433a71a0ab",
      "9199f335bbae4cc8a365edfa5b31d062",
      "ca163152cf3d4f75a6551e849734ed32",
      "f42bd5dffbde41238e2f4f448a84dd49",
      "d712083c210a48df8006165995f75042",
      "7b1776736f214c359dfc9d6686319656",
      "be51881ce46f417688902cc7fe217c7a",
      "bcadaf5f430940709fee182da110ec61",
      "43a985389a824dd188142f6d8147931d",
      "a6ad82ce01d148f1921805ffaa3cd356",
      "431e2ee019ff480cb3a6c00c18e3b4db",
      "d5dee78399e9415fbcbe80982316e241",
      "bf6f92c46042441db9730f0d0636b4e2",
      "63e246fd61e941c7a6631409a5b38b45",
      "231e310e6bd84476bbd886ab9044e455",
      "4c720a0341a642168e501249b0e4bac8",
      "830b64aae7a4436099c6322d3de1c648",
      "bf8fb9fe0f474a3293af66d3650b80df",
      "f45e5fcacf144a779985358817666f26",
      "a6095e88eefb4afc8ce9ae247ef96500",
      "4de55c59938247a3831d986219489074",
      "94707d84c737451583c8288f0272b2b7",
      "167772e036304936982fff62f2378d90",
      "30a8d6a70e1a4cd28f7eff9c8487a5e3",
      "fc722c0a9e6e472f8b15873994c01249",
      "594186c7d8df4a8eabecc038701ab525",
      "8401c5b368b24d02b5815f221a33ee05",
      "3ef5e5d23b8645fbadc29e8b568eea86",
      "fd4a288d7fcf46cbbd1124d01febdfd2",
      "42309cc8222243d69c9109392080b77e",
      "4fe3c91c40ff45659ae4024398b168bc",
      "9556fa5853e9409d99ae80db65ead75e",
      "ddbdd32d58a44a60936433a9a2ccb11e",
      "be9c9a5b6a144cd4a4d53f4392fb436d",
      "88f212ce780343469394c7c9a0f0d8af",
      "6c455da3a9cd41bcbfc70c1d024cab83",
      "74da60b7e4d04e208d74188937c1bd3a",
      "959713b9bcdd408b97ee44b66246ffc2",
      "4c95b5a3c8c04c4f95760e3ec7b52254",
      "773ccc4f323a4da4baf8c1c2005be904",
      "ef4cd26f787c4148a287d73c54100bc6",
      "449f90c117d049bbb9bab2f2146012cd",
      "1d1b75a29639457599d1ad6d533ec83f",
      "a78faddf30b543339788dd3d16d36e91",
      "59aea16699914f4e934cd27909aa7b10",
      "96d9aadebc31424daa20ebf66de9f5c2",
      "b439f62bc40f414bbbd5d2a068f28e7b",
      "b082083a13604f1abdf2cc0ea753f46c",
      "da1eaf925a444c00b20742a80a2a8d82",
      "62f867ce49de43dd90f2ac5cf2990bda",
      "872c9f27b8714014883b43b4788221ae",
      "30fa6f0ecdbd4cd0802b72fee65d1352",
      "295eeed2bbe146048d5da7088c8aef17",
      "86f542ad663543258ab3190ee5a1d235",
      "4d83895fedc74b208142521571b2f6cf",
      "a5416ec55988437e9be8998043dfb7d8",
      "540ac3c861c84d39a321fdc60b1bebcb",
      "0b90d06437314481abfb464af2771ace",
      "5e683b49a6924824a77eb1b2b1999bc8",
      "1b4a9361e9b241898ff986ef4e22bd2e",
      "a241bb26515a4676a4b861bfd05da3f7",
      "5425856f47ed4276b33b0b07c1597bce",
      "47878852938e42af8c0dbd8583c17503",
      "a88c95ef56234cf7a11f7b2edd5a9b6f",
      "a15eaef1a7bf4c82ad4781d0bbe3d445",
      "d8bcc796f8b54f6ba808b2ea3231b65e",
      "e37cebec13a74bc3893bd09695e30cae",
      "cb78019faf8d4842942be73737fcb172"
     ]
    },
    "height": 64,
    "id": "014e1c26-df35-406c-8ac2-9789b011c86b",
    "outputId": "6778a965-9b1e-495d-bc5c-18c93aed200e"
   },
   "outputs": [],
   "source": [
    "# Use a pipeline as a high-level helper\n",
    "from transformers import pipeline\n",
    "\n",
    "pipe = pipeline(\"translation\", model=\"facebook/nllb-200-distilled-600M\",  torch_dtype=torch.bfloat16)"
   ]
  },
  {
   "cell_type": "markdown",
   "id": "69d8f7a5",
   "metadata": {
    "id": "69d8f7a5"
   },
   "source": [
    "NLLB: No Language Left Behind: ['nllb-200-distilled-600M'](https://huggingface.co/facebook/nllb-200-distilled-600M).\n",
    "\n"
   ]
  },
  {
   "cell_type": "code",
   "execution_count": null,
   "id": "095bd1c5-a96f-4b20-8e9c-601b0b158fd8",
   "metadata": {
    "height": 115,
    "id": "095bd1c5-a96f-4b20-8e9c-601b0b158fd8"
   },
   "outputs": [],
   "source": [
    "text = \"\"\"\\\n",
    "My puppy is adorable, \\\n",
    "Your kitten is cute.\n",
    "Her panda is friendly.\n",
    "His llama is thoughtful. \\\n",
    "We all have nice pets!\"\"\""
   ]
  },
  {
   "cell_type": "code",
   "execution_count": null,
   "id": "03d9ebdf-86d8-493b-8757-74b3d1010442",
   "metadata": {
    "height": 64,
    "id": "03d9ebdf-86d8-493b-8757-74b3d1010442"
   },
   "outputs": [],
   "source": [
    "text_translated = pipe(text,\n",
    "                             src_lang=\"eng_Latn\",\n",
    "                             tgt_lang=\"fra_Latn\")"
   ]
  },
  {
   "cell_type": "code",
   "execution_count": null,
   "id": "f4ba07e3-4a5e-4bf2-86a9-498781828eca",
   "metadata": {
    "colab": {
     "base_uri": "https://localhost:8080/"
    },
    "height": 30,
    "id": "f4ba07e3-4a5e-4bf2-86a9-498781828eca",
    "outputId": "71c4c890-eb24-45d4-c281-b297d5598c96"
   },
   "outputs": [],
   "source": [
    "text_translated"
   ]
  },
  {
   "cell_type": "markdown",
   "id": "c7517649",
   "metadata": {
    "id": "c7517649"
   },
   "source": [
    "## Free up some memory before continuing\n",
    "- In order to have enough free memory to run the rest of the code, please run the following to free up memory on the machine."
   ]
  },
  {
   "cell_type": "code",
   "execution_count": null,
   "id": "c16e5dad-dac0-42e4-9a87-8128a1d49b44",
   "metadata": {
    "height": 30,
    "id": "c16e5dad-dac0-42e4-9a87-8128a1d49b44"
   },
   "outputs": [],
   "source": [
    "import gc"
   ]
  },
  {
   "cell_type": "code",
   "execution_count": null,
   "id": "43cafb3a-51b8-4aae-929c-31d524dec530",
   "metadata": {
    "height": 30,
    "id": "43cafb3a-51b8-4aae-929c-31d524dec530"
   },
   "outputs": [],
   "source": [
    "del pipe"
   ]
  },
  {
   "cell_type": "code",
   "execution_count": null,
   "id": "61d698a7-8ae2-475e-ac46-d768c282b17c",
   "metadata": {
    "colab": {
     "base_uri": "https://localhost:8080/"
    },
    "height": 30,
    "id": "61d698a7-8ae2-475e-ac46-d768c282b17c",
    "outputId": "b344e0e4-0693-4781-df62-ea36265e41d2"
   },
   "outputs": [],
   "source": [
    "gc.collect()"
   ]
  },
  {
   "cell_type": "markdown",
   "id": "b2fac55f",
   "metadata": {
    "id": "b2fac55f"
   },
   "source": [
    "### Build the `summarization` pipeline usingTransformers Library"
   ]
  },
  {
   "cell_type": "code",
   "execution_count": null,
   "id": "b132c646-0c6a-4c57-939a-b3015ea4b76f",
   "metadata": {
    "colab": {
     "base_uri": "https://localhost:8080/",
     "height": 209,
     "referenced_widgets": [
      "56cc080aa2b342b9a4f8a5f3de85bb3c",
      "08ab04f03a2641b2a247356e704f9c63",
      "82e08f5e369f416fb2f807f96cce5d03",
      "cb63393618b64ea9bc28052d2734ac73",
      "a1e171a3a66142d6b91f371cdb91b9a4",
      "c225dcc966c2432db90abc930b920e07",
      "0e91ca2901bd40a191435178508690e3",
      "a2c07f4daa2b43bab7a4156a959e3624",
      "6ecc74305d4e4a20b922e9a9f40cd18d",
      "6d88acac8ef14684a2db6059e0c4368c",
      "bea27340219b45c286fb6232fce173a9",
      "799e7c91dfa340f8a1fbfb74e93d1602",
      "e9d12a809f9b4b9ab8be560aa435faf9",
      "265e2e98e0b74503856fa4032c026add",
      "553f883e46264e42a5f97ede30622ba4",
      "c58ea9855f03430f9336fa2f4ebbcadf",
      "d8b28407e1eb4537896106d43a882348",
      "b385d32a183e44ab9604b3298cfd84ed",
      "de268df6d2f9418d87ad2425446a9204",
      "ca1735d4209840d5ab4acb7a59263cc3",
      "023fe37c29554cb8892b5c02031f87fe",
      "b6655c8dc4324c988a62859fa6c15456",
      "56bb5cf474f9442b8bc70b0228c4b863",
      "0ea422fd08484b469086311e441172bf",
      "8eccd4f8ba1249aaaed7a59fb1459bb5",
      "4673c424b1934e44a66c4da6d4eadf08",
      "45f4231ee98f4948b66d8aedaa65d53d",
      "33b9ff696e154a4a813b2753ce6437b9",
      "5dd7782760d74c30a499b4b923aa38f4",
      "2bf72ef95679428992c72c17c0d33fdc",
      "98a2ce2a2faa45b4a02321c9c2e5ba49",
      "ababc4762bb04a53a48b1ffff14d57a3",
      "166656294bf1471fab7a8e991c8caef7",
      "da3c52ba93024cc596dc97073f526982",
      "3c707179e40b4c398779acdacbebbeb8",
      "0212e7164bfa473c952b3db1be83eb94",
      "a0f5ee80230a42909f3fea7c3a4af021",
      "13359e78761d4fbdb6aeaa5fd8b3989e",
      "8062df9ea5984a6d8ef0b95c5ee6fe25",
      "4e6111da9568477daac2d0f15a5553db",
      "725baf5fa7a4493bae5aefe127ee4f64",
      "c9b61e448a144bcbbe5ebe92438eaf0b",
      "08f93575428743d18812d73b9328fd83",
      "6b005ff3c23b42d5b7fde95e45e2f352",
      "f26f1b94ebc9415daa05bf3865c6e3d2",
      "c518a5bc02984fde93f1c2c5ac4974d7",
      "73faeb8fe6a345bda35d84daba93575c",
      "30e0d420725c409aa7913f5d454e1204",
      "55deb757ba7341c486c4d447cb54bd9b",
      "6e3da052f2f84a78abd433a110032f03",
      "03e34bf130744e8397eaba129720c228",
      "7115cddc3619444494d24e26dbfd2f2d",
      "cb2a48f7c6ca41689ee6706a0fa53e25",
      "aa381129b67644d5839337ca900c86a6",
      "47adc28c32ca44f4961650c4bde54f54",
      "2017aa577f124ef3b7dc2b493a9a1ca9",
      "16e4ea9ec50648eeb79c920e275e45ba",
      "f185bb41bcd9499cb288348d35cc4c0c",
      "a3897df1d009451a98c28b2928a74556",
      "ba1389416a0841efbee4f84604d8c137",
      "17cce74a849346c88a295e9ad87df1cc",
      "dd571109385d4d6986807054c6df7d12",
      "73614dc28f35449981c6c851823448c7",
      "46151432f8c045c4876f8ca84431c007",
      "a4dbabb62f5a4136b43cb898cd5455df",
      "1486aa6ced3c4a34af26dc87da092c0c"
     ]
    },
    "height": 64,
    "id": "b132c646-0c6a-4c57-939a-b3015ea4b76f",
    "outputId": "c53b3289-b97b-4b53-8ea6-1ef9d56f4fac"
   },
   "outputs": [],
   "source": [
    "\n",
    "# Use a pipeline as a high-level helper\n",
    "from transformers import pipeline\n",
    "\n",
    "pipe = pipeline(\"summarization\", model=\"facebook/bart-large-cnn\",torch_dtype=torch.bfloat16)"
   ]
  },
  {
   "cell_type": "markdown",
   "id": "1ca6f847",
   "metadata": {
    "id": "1ca6f847"
   },
   "source": [
    "Model info: ['bart-large-cnn'](https://huggingface.co/facebook/bart-large-cnn)"
   ]
  },
  {
   "cell_type": "code",
   "execution_count": null,
   "id": "98276d66-4274-4a2f-b6a7-b4fb839b94f7",
   "metadata": {
    "height": 149,
    "id": "98276d66-4274-4a2f-b6a7-b4fb839b94f7"
   },
   "outputs": [],
   "source": [
    "text = \"\"\"Paris is the capital and most populous city of France, with\n",
    "          an estimated population of 2,175,601 residents as of 2018,\n",
    "          in an area of more than 105 square kilometres (41 square\n",
    "          miles). The City of Paris is the centre and seat of\n",
    "          government of the region and province of Île-de-France, or\n",
    "          Paris Region, which has an estimated population of\n",
    "          12,174,880, or about 18 percent of the population of France\n",
    "          as of 2017.\"\"\""
   ]
  },
  {
   "cell_type": "code",
   "execution_count": null,
   "id": "d856f193-cbf7-450b-8ae3-42287096e56f",
   "metadata": {
    "height": 64,
    "id": "d856f193-cbf7-450b-8ae3-42287096e56f"
   },
   "outputs": [],
   "source": [
    "summary = pipe(text,\n",
    "                     min_length=10,\n",
    "                     max_length=100)"
   ]
  },
  {
   "cell_type": "code",
   "execution_count": null,
   "id": "a2c79f81-6baf-4f6b-95ee-b1a2072ec073",
   "metadata": {
    "colab": {
     "base_uri": "https://localhost:8080/"
    },
    "height": 30,
    "id": "a2c79f81-6baf-4f6b-95ee-b1a2072ec073",
    "outputId": "747b5cbf-1be9-4612-e241-ced9dbebe938"
   },
   "outputs": [],
   "source": [
    "summary"
   ]
  }
 ],
 "metadata": {
  "colab": {
   "provenance": []
  },
  "kernelspec": {
   "display_name": "Python 3 (ipykernel)",
   "language": "python",
   "name": "python3"
  },
  "language_info": {
   "codemirror_mode": {
    "name": "ipython",
    "version": 3
   },
   "file_extension": ".py",
   "mimetype": "text/x-python",
   "name": "python",
   "nbconvert_exporter": "python",
   "pygments_lexer": "ipython3",
   "version": "3.9.18"
  }
 },
 "nbformat": 4,
 "nbformat_minor": 5
}
